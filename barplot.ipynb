{
 "cells": [
  {
   "cell_type": "code",
   "execution_count": 10,
   "metadata": {},
   "outputs": [
    {
     "data": {
      "text/html": [
       "<div>\n",
       "<style scoped>\n",
       "    .dataframe tbody tr th:only-of-type {\n",
       "        vertical-align: middle;\n",
       "    }\n",
       "\n",
       "    .dataframe tbody tr th {\n",
       "        vertical-align: top;\n",
       "    }\n",
       "\n",
       "    .dataframe thead th {\n",
       "        text-align: right;\n",
       "    }\n",
       "</style>\n",
       "<table border=\"1\" class=\"dataframe\">\n",
       "  <thead>\n",
       "    <tr style=\"text-align: right;\">\n",
       "      <th></th>\n",
       "      <th>Subject_Number</th>\n",
       "      <th>Classification_Accuracy</th>\n",
       "      <th>Null_CV_Scores</th>\n",
       "    </tr>\n",
       "  </thead>\n",
       "  <tbody>\n",
       "    <tr>\n",
       "      <th>0</th>\n",
       "      <td>S05</td>\n",
       "      <td>0.814286</td>\n",
       "      <td>0.785714</td>\n",
       "    </tr>\n",
       "    <tr>\n",
       "      <th>1</th>\n",
       "      <td>S02</td>\n",
       "      <td>0.860714</td>\n",
       "      <td>0.632143</td>\n",
       "    </tr>\n",
       "    <tr>\n",
       "      <th>2</th>\n",
       "      <td>S34</td>\n",
       "      <td>0.750000</td>\n",
       "      <td>0.721429</td>\n",
       "    </tr>\n",
       "    <tr>\n",
       "      <th>3</th>\n",
       "      <td>S03</td>\n",
       "      <td>0.746429</td>\n",
       "      <td>0.610714</td>\n",
       "    </tr>\n",
       "    <tr>\n",
       "      <th>4</th>\n",
       "      <td>S26</td>\n",
       "      <td>0.789286</td>\n",
       "      <td>0.657143</td>\n",
       "    </tr>\n",
       "    <tr>\n",
       "      <th>5</th>\n",
       "      <td>S28</td>\n",
       "      <td>0.875000</td>\n",
       "      <td>0.667857</td>\n",
       "    </tr>\n",
       "    <tr>\n",
       "      <th>6</th>\n",
       "      <td>S10</td>\n",
       "      <td>0.846429</td>\n",
       "      <td>0.614286</td>\n",
       "    </tr>\n",
       "    <tr>\n",
       "      <th>7</th>\n",
       "      <td>S42</td>\n",
       "      <td>0.810000</td>\n",
       "      <td>0.680000</td>\n",
       "    </tr>\n",
       "    <tr>\n",
       "      <th>8</th>\n",
       "      <td>S01</td>\n",
       "      <td>0.778571</td>\n",
       "      <td>0.585714</td>\n",
       "    </tr>\n",
       "    <tr>\n",
       "      <th>9</th>\n",
       "      <td>S06</td>\n",
       "      <td>0.810714</td>\n",
       "      <td>0.639286</td>\n",
       "    </tr>\n",
       "    <tr>\n",
       "      <th>10</th>\n",
       "      <td>S30</td>\n",
       "      <td>0.700000</td>\n",
       "      <td>0.686667</td>\n",
       "    </tr>\n",
       "    <tr>\n",
       "      <th>11</th>\n",
       "      <td>S08</td>\n",
       "      <td>0.832143</td>\n",
       "      <td>0.625000</td>\n",
       "    </tr>\n",
       "    <tr>\n",
       "      <th>12</th>\n",
       "      <td>S37</td>\n",
       "      <td>0.889286</td>\n",
       "      <td>0.553571</td>\n",
       "    </tr>\n",
       "    <tr>\n",
       "      <th>13</th>\n",
       "      <td>S38</td>\n",
       "      <td>0.786667</td>\n",
       "      <td>0.653333</td>\n",
       "    </tr>\n",
       "    <tr>\n",
       "      <th>14</th>\n",
       "      <td>S07</td>\n",
       "      <td>0.739286</td>\n",
       "      <td>0.596429</td>\n",
       "    </tr>\n",
       "    <tr>\n",
       "      <th>15</th>\n",
       "      <td>S22</td>\n",
       "      <td>0.782143</td>\n",
       "      <td>0.603571</td>\n",
       "    </tr>\n",
       "    <tr>\n",
       "      <th>16</th>\n",
       "      <td>S13</td>\n",
       "      <td>0.782143</td>\n",
       "      <td>0.617857</td>\n",
       "    </tr>\n",
       "    <tr>\n",
       "      <th>17</th>\n",
       "      <td>S14</td>\n",
       "      <td>0.832143</td>\n",
       "      <td>0.550000</td>\n",
       "    </tr>\n",
       "    <tr>\n",
       "      <th>18</th>\n",
       "      <td>S40</td>\n",
       "      <td>0.875000</td>\n",
       "      <td>0.425000</td>\n",
       "    </tr>\n",
       "    <tr>\n",
       "      <th>19</th>\n",
       "      <td>S15</td>\n",
       "      <td>0.860714</td>\n",
       "      <td>0.457143</td>\n",
       "    </tr>\n",
       "    <tr>\n",
       "      <th>20</th>\n",
       "      <td>S24</td>\n",
       "      <td>0.775000</td>\n",
       "      <td>0.828571</td>\n",
       "    </tr>\n",
       "    <tr>\n",
       "      <th>21</th>\n",
       "      <td>S23</td>\n",
       "      <td>0.782143</td>\n",
       "      <td>0.617857</td>\n",
       "    </tr>\n",
       "    <tr>\n",
       "      <th>22</th>\n",
       "      <td>S41</td>\n",
       "      <td>0.864286</td>\n",
       "      <td>0.425000</td>\n",
       "    </tr>\n",
       "  </tbody>\n",
       "</table>\n",
       "</div>"
      ],
      "text/plain": [
       "   Subject_Number  Classification_Accuracy  Null_CV_Scores\n",
       "0             S05                 0.814286        0.785714\n",
       "1             S02                 0.860714        0.632143\n",
       "2             S34                 0.750000        0.721429\n",
       "3             S03                 0.746429        0.610714\n",
       "4             S26                 0.789286        0.657143\n",
       "5             S28                 0.875000        0.667857\n",
       "6             S10                 0.846429        0.614286\n",
       "7             S42                 0.810000        0.680000\n",
       "8             S01                 0.778571        0.585714\n",
       "9             S06                 0.810714        0.639286\n",
       "10            S30                 0.700000        0.686667\n",
       "11            S08                 0.832143        0.625000\n",
       "12            S37                 0.889286        0.553571\n",
       "13            S38                 0.786667        0.653333\n",
       "14            S07                 0.739286        0.596429\n",
       "15            S22                 0.782143        0.603571\n",
       "16            S13                 0.782143        0.617857\n",
       "17            S14                 0.832143        0.550000\n",
       "18            S40                 0.875000        0.425000\n",
       "19            S15                 0.860714        0.457143\n",
       "20            S24                 0.775000        0.828571\n",
       "21            S23                 0.782143        0.617857\n",
       "22            S41                 0.864286        0.425000"
      ]
     },
     "execution_count": 10,
     "metadata": {},
     "output_type": "execute_result"
    }
   ],
   "source": [
    "import os\n",
    "import pandas as pd\n",
    "\n",
    "data = {'Subject_Number': ['S05','S02','S34',\n",
    " 'S03',\n",
    " 'S26',\n",
    " 'S28',\n",
    " 'S10',\n",
    " 'S42',\n",
    " 'S01',\n",
    " 'S06',\n",
    " 'S30',\n",
    " 'S08',\n",
    " 'S37',\n",
    " 'S38',\n",
    " 'S07',\n",
    " 'S22',\n",
    " 'S13',\n",
    " 'S14',\n",
    " 'S40',\n",
    " 'S15',\n",
    " 'S24',\n",
    " 'S23',\n",
    " 'S41']}\n",
    "data['Classification_Accuracy'] = [0.8142857142857143, 0.8607142857142858, 0.75, 0.7464285714285714, 0.7892857142857143, 0.875, 0.8464285714285715, 0.8099999999999999, 0.7785714285714287, 0.8107142857142857, 0.7, 0.8321428571428571, 0.8892857142857142, 0.7866666666666666, 0.7392857142857142, 0.7821428571428571, 0.7821428571428571, 0.8321428571428571, 0.875, 0.8607142857142858, 0.7750000000000001, 0.7821428571428571, 0.8642857142857142]\n",
    "data['Null_CV_Scores'] = [0.7857142857142857, 0.6321428571428571, 0.7214285714285713, 0.6107142857142858, 0.6571428571428571, 0.6678571428571429, 0.6142857142857142, 0.6799999999999999, 0.5857142857142856, 0.6392857142857143, 0.6866666666666668, 0.625, 0.5535714285714286, 0.6533333333333332, 0.5964285714285714, 0.6035714285714285, 0.6178571428571429, 0.55, 0.425, 0.45714285714285713, 0.8285714285714286, 0.6178571428571429, 0.425]\n",
    "\n",
    "dataframe = pd.DataFrame(data)\n",
    "dataframe"
   ]
  },
  {
   "cell_type": "code",
   "execution_count": 16,
   "metadata": {},
   "outputs": [
    {
     "data": {
      "text/plain": [
       "0.8079296066252588"
      ]
     },
     "execution_count": 16,
     "metadata": {},
     "output_type": "execute_result"
    }
   ],
   "source": [
    "import numpy as np\n",
    "\n",
    "np.mean(data[\"Classification_Accuracy\"])"
   ]
  },
  {
   "cell_type": "code",
   "execution_count": 19,
   "metadata": {},
   "outputs": [
    {
     "data": {
      "text/plain": [
       "0.049039097270838494"
      ]
     },
     "execution_count": 19,
     "metadata": {},
     "output_type": "execute_result"
    }
   ],
   "source": [
    "np.std(data[\"Classification_Accuracy\"])"
   ]
  },
  {
   "cell_type": "code",
   "execution_count": 46,
   "metadata": {},
   "outputs": [],
   "source": [
    "acc=data['Classification_Accuracy']"
   ]
  },
  {
   "cell_type": "code",
   "execution_count": 99,
   "metadata": {},
   "outputs": [
    {
     "data": {
      "image/png": "[encoded data removed]",
      "text/plain": [
       "<Figure size 288x288 with 1 Axes>"
      ]
     },
     "metadata": {
      "needs_background": "light"
     },
     "output_type": "display_data"
    }
   ],
   "source": [
    "import seaborn as sns\n",
    "bar = sns.barplot(data[\"Classification_Accuracy\"], orient=\"v\", color=\"mediumspringgreen\")\n",
    "bar.set(title=\"Accuracy of Within-Subjects Classifier\")\n",
    "bar.set_xlabel(\"Within Subjects\")\n",
    "bar.set_ylabel(\"Mean Classifying Accuracy (%)\")\n",
    "plt.ylim(0,1.0)\n",
    "plt.gcf().set_size_inches(4, 4)"
   ]
  }
 ],
 "metadata": {
  "kernelspec": {
   "display_name": "Python 3",
   "language": "python",
   "name": "python3"
  },
  "language_info": {
   "codemirror_mode": {
    "name": "ipython",
    "version": 3
   },
   "file_extension": ".py",
   "mimetype": "text/x-python",
   "name": "python",
   "nbconvert_exporter": "python",
   "pygments_lexer": "ipython3",
   "version": "3.8.3"
  }
 },
 "nbformat": 4,
 "nbformat_minor": 4
}
