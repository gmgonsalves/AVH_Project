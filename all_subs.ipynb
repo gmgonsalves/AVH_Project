{
 "cells": [
  {
   "cell_type": "markdown",
   "metadata": {},
   "source": [
    "## ***all_subs***\n",
    "#### <font color = grey> training and testing a linear support vector machine on its ability to predict auditory verbal hallucination states in **multiple subjects** with schizophrenia </font>"
   ]
  },
  {
   "cell_type": "code",
   "execution_count": 1,
   "metadata": {},
   "outputs": [],
   "source": [
    "import os\n",
    "import numpy as np\n",
    "import nibabel as nib\n",
    "import nilearn\n",
    "import matplotlib.pyplot as plt\n",
    "\n",
    "from nilearn import image\n",
    "from nilearn.image import mean_img\n",
    "from nilearn import plotting\n",
    "from nilearn.plotting import plot_epi\n",
    "from scipy import stats\n",
    "from nilearn.maskers import NiftiMasker"
   ]
  },
  {
   "cell_type": "code",
   "execution_count": 4,
   "metadata": {},
   "outputs": [
    {
     "data": {
      "text/plain": [
       "'/Users/grantgonsalves/Desktop/gmg2176/Paris/hallu'"
      ]
     },
     "execution_count": 4,
     "metadata": {},
     "output_type": "execute_result"
    }
   ],
   "source": [
    "os.chdir(\"../hallu\")\n",
    "os.getcwd()"
   ]
  },
  {
   "cell_type": "code",
   "execution_count": 5,
   "metadata": {},
   "outputs": [
    {
     "name": "stderr",
     "output_type": "stream",
     "text": [
      "/Users/grantgonsalves/opt/anaconda3/lib/python3.8/site-packages/nilearn/input_data/__init__.py:27: FutureWarning: The import path 'nilearn.input_data' is deprecated in version 0.9. Importing from 'nilearn.input_data' will be possible at least until release 0.13.0. Please import from 'nilearn.maskers' instead.\n",
      "  warnings.warn(message, FutureWarning)\n"
     ]
    }
   ],
   "source": [
    "%run analysis.py"
   ]
  },
  {
   "cell_type": "code",
   "execution_count": 6,
   "metadata": {},
   "outputs": [
    {
     "data": {
      "text/plain": [
       "['S05',\n",
       " 'S02',\n",
       " 'S34',\n",
       " 'S03',\n",
       " '.DS_Store',\n",
       " 'S26',\n",
       " 'S28',\n",
       " 'S10',\n",
       " 'S42',\n",
       " 'S01',\n",
       " 'S06',\n",
       " 'S30',\n",
       " 'S08',\n",
       " 'S37',\n",
       " 'S38',\n",
       " 'S07',\n",
       " 'S22',\n",
       " 'S13',\n",
       " 'S14',\n",
       " 'S40',\n",
       " 'S15',\n",
       " 'S24',\n",
       " 'S23',\n",
       " 'S41']"
      ]
     },
     "execution_count": 6,
     "metadata": {},
     "output_type": "execute_result"
    }
   ],
   "source": [
    "all_subjects = os.listdir(\"Data\")\n",
    "all_subjects"
   ]
  },
  {
   "cell_type": "code",
   "execution_count": 2,
   "metadata": {},
   "outputs": [
    {
     "data": {
      "text/plain": [
       "'/Users/grantgonsalves/Desktop/gmg2176/Paris/paris_py'"
      ]
     },
     "execution_count": 2,
     "metadata": {},
     "output_type": "execute_result"
    }
   ],
   "source": [
    "os.getcwd()"
   ]
  },
  {
   "cell_type": "code",
   "execution_count": 36,
   "metadata": {},
   "outputs": [
    {
     "name": "stdout",
     "output_type": "stream",
     "text": [
      "/Users/grantgonsalves/Desktop/gmg2176/Paris/hallu/Data/S05\n",
      "/Users/grantgonsalves/Desktop/gmg2176/Paris/hallu/Data/S02\n",
      "/Users/grantgonsalves/Desktop/gmg2176/Paris/hallu/Data/S34\n",
      "/Users/grantgonsalves/Desktop/gmg2176/Paris/hallu/Data/S03\n",
      "/Users/grantgonsalves/Desktop/gmg2176/Paris/hallu/Data/S26\n",
      "/Users/grantgonsalves/Desktop/gmg2176/Paris/hallu/Data/S28\n",
      "/Users/grantgonsalves/Desktop/gmg2176/Paris/hallu/Data/S10\n",
      "/Users/grantgonsalves/Desktop/gmg2176/Paris/hallu/Data/S42\n",
      "/Users/grantgonsalves/Desktop/gmg2176/Paris/hallu/Data/S01\n",
      "/Users/grantgonsalves/Desktop/gmg2176/Paris/hallu/Data/S06\n",
      "/Users/grantgonsalves/Desktop/gmg2176/Paris/hallu/Data/S30\n",
      "/Users/grantgonsalves/Desktop/gmg2176/Paris/hallu/Data/S08\n",
      "/Users/grantgonsalves/Desktop/gmg2176/Paris/hallu/Data/S37\n",
      "/Users/grantgonsalves/Desktop/gmg2176/Paris/hallu/Data/S38\n",
      "/Users/grantgonsalves/Desktop/gmg2176/Paris/hallu/Data/S07\n",
      "/Users/grantgonsalves/Desktop/gmg2176/Paris/hallu/Data/S22\n",
      "/Users/grantgonsalves/Desktop/gmg2176/Paris/hallu/Data/S13\n",
      "/Users/grantgonsalves/Desktop/gmg2176/Paris/hallu/Data/S14\n",
      "/Users/grantgonsalves/Desktop/gmg2176/Paris/hallu/Data/S40\n",
      "/Users/grantgonsalves/Desktop/gmg2176/Paris/hallu/Data/S15\n",
      "/Users/grantgonsalves/Desktop/gmg2176/Paris/hallu/Data/S24\n",
      "/Users/grantgonsalves/Desktop/gmg2176/Paris/hallu/Data/S23\n",
      "/Users/grantgonsalves/Desktop/gmg2176/Paris/hallu/Data/S41\n"
     ]
    }
   ],
   "source": [
    "all_data = {}\n",
    "data_path     = '/Users/grantgonsalves/Desktop/gmg2176/Paris/hallu'\n",
    "        \n",
    "for subject in all_subjects:\n",
    "    if subject.find('DS') == -1:\n",
    "        subject_number = int(subject[1:])\n",
    "        func_path  = os.path.join(os.path.join(data_path, 'Data'), subject)\n",
    "        print(func_path)\n",
    "        try:\n",
    "            all_data[subject_number] = nib.load(func_path+'/S%02d_func.nii' %subject_number)\n",
    "        except Exception:\n",
    "            print(\"Can not load subject\", subject_number)"
   ]
  },
  {
   "cell_type": "code",
   "execution_count": 118,
   "metadata": {},
   "outputs": [
    {
     "data": {
      "text/plain": [
       "(60, 44, 50, 400)"
      ]
     },
     "execution_count": 118,
     "metadata": {},
     "output_type": "execute_result"
    }
   ],
   "source": [
    "# note: not all subjects have 280 images, for ex. S30 has 150 and S42 has 400\n",
    "\n",
    "all_data[42].shape"
   ]
  },
  {
   "cell_type": "code",
   "execution_count": 37,
   "metadata": {},
   "outputs": [
    {
     "data": {
      "text/plain": [
       "<nilearn.plotting.displays._slicers.OrthoSlicer at 0x7fea98f47850>"
      ]
     },
     "execution_count": 37,
     "metadata": {},
     "output_type": "execute_result"
    },
    {
     "data": {
      "image/png": "[encoded data removed]",
      "text/plain": [
       "<Figure size 475.2x187.2 with 4 Axes>"
      ]
     },
     "metadata": {},
     "output_type": "display_data"
    }
   ],
   "source": [
    "plotting.plot_epi(mean_img(all_data[1]))"
   ]
  },
  {
   "cell_type": "code",
   "execution_count": 18,
   "metadata": {},
   "outputs": [],
   "source": [
    "all_mean = {}\n",
    "\n",
    "for subject_number in all_data:\n",
    "    all_mean[subject_number] = image.mean_img(all_data[subject_number])"
   ]
  },
  {
   "cell_type": "code",
   "execution_count": 21,
   "metadata": {},
   "outputs": [
    {
     "data": {
      "text/plain": [
       "(60, 44, 50)"
      ]
     },
     "execution_count": 21,
     "metadata": {},
     "output_type": "execute_result"
    }
   ],
   "source": [
    "all_mean[1].shape"
   ]
  },
  {
   "cell_type": "code",
   "execution_count": 23,
   "metadata": {},
   "outputs": [],
   "source": [
    "all_masker = {}\n",
    "\n",
    "for subject_number in all_mean:\n",
    "    masker = NiftiMasker(standardize=True, mask_strategy='epi')\n",
    "    all_masker[subject_number] = masker.fit(all_mean[subject_number])"
   ]
  },
  {
   "cell_type": "code",
   "execution_count": 28,
   "metadata": {},
   "outputs": [
    {
     "data": {
      "text/plain": [
       "{5: NiftiMasker(mask_strategy='epi', standardize=True),\n",
       " 2: NiftiMasker(mask_strategy='epi', standardize=True),\n",
       " 34: NiftiMasker(mask_strategy='epi', standardize=True),\n",
       " 3: NiftiMasker(mask_strategy='epi', standardize=True),\n",
       " 26: NiftiMasker(mask_strategy='epi', standardize=True),\n",
       " 28: NiftiMasker(mask_strategy='epi', standardize=True),\n",
       " 10: NiftiMasker(mask_strategy='epi', standardize=True),\n",
       " 42: NiftiMasker(mask_strategy='epi', standardize=True),\n",
       " 1: NiftiMasker(mask_strategy='epi', standardize=True),\n",
       " 6: NiftiMasker(mask_strategy='epi', standardize=True),\n",
       " 30: NiftiMasker(mask_strategy='epi', standardize=True),\n",
       " 8: NiftiMasker(mask_strategy='epi', standardize=True),\n",
       " 37: NiftiMasker(mask_strategy='epi', standardize=True),\n",
       " 38: NiftiMasker(mask_strategy='epi', standardize=True),\n",
       " 7: NiftiMasker(mask_strategy='epi', standardize=True),\n",
       " 22: NiftiMasker(mask_strategy='epi', standardize=True),\n",
       " 13: NiftiMasker(mask_strategy='epi', standardize=True),\n",
       " 14: NiftiMasker(mask_strategy='epi', standardize=True),\n",
       " 40: NiftiMasker(mask_strategy='epi', standardize=True),\n",
       " 15: NiftiMasker(mask_strategy='epi', standardize=True),\n",
       " 24: NiftiMasker(mask_strategy='epi', standardize=True),\n",
       " 23: NiftiMasker(mask_strategy='epi', standardize=True),\n",
       " 41: NiftiMasker(mask_strategy='epi', standardize=True)}"
      ]
     },
     "execution_count": 28,
     "metadata": {},
     "output_type": "execute_result"
    }
   ],
   "source": [
    "all_masker"
   ]
  },
  {
   "cell_type": "code",
   "execution_count": 136,
   "metadata": {},
   "outputs": [],
   "source": [
    "all_mask = {}\n",
    "\n",
    "for subject_number in all_masker:\n",
    "    all_mask[subject_number] = all_masker[subject_number].mask_img_"
   ]
  },
  {
   "cell_type": "code",
   "execution_count": 140,
   "metadata": {},
   "outputs": [
    {
     "data": {
      "text/plain": [
       "{5: <nibabel.nifti1.Nifti1Image at 0x7fea97ca8280>,\n",
       " 2: <nibabel.nifti1.Nifti1Image at 0x7fea97aad1c0>,\n",
       " 34: <nibabel.nifti1.Nifti1Image at 0x7fea97f16d30>,\n",
       " 3: <nibabel.nifti1.Nifti1Image at 0x7fea97e948b0>,\n",
       " 26: <nibabel.nifti1.Nifti1Image at 0x7fea97aad430>,\n",
       " 28: <nibabel.nifti1.Nifti1Image at 0x7fea97c1ca00>,\n",
       " 10: <nibabel.nifti1.Nifti1Image at 0x7fea97e6afd0>,\n",
       " 42: <nibabel.nifti1.Nifti1Image at 0x7fea97ef31c0>,\n",
       " 1: <nibabel.nifti1.Nifti1Image at 0x7fea97fd9670>,\n",
       " 6: <nibabel.nifti1.Nifti1Image at 0x7fea97fd97f0>,\n",
       " 30: <nibabel.nifti1.Nifti1Image at 0x7fea97fd98b0>,\n",
       " 8: <nibabel.nifti1.Nifti1Image at 0x7fea97fd99a0>,\n",
       " 37: <nibabel.nifti1.Nifti1Image at 0x7fea97fd94f0>,\n",
       " 38: <nibabel.nifti1.Nifti1Image at 0x7fea97fd9cd0>,\n",
       " 7: <nibabel.nifti1.Nifti1Image at 0x7fea97fd9d90>,\n",
       " 22: <nibabel.nifti1.Nifti1Image at 0x7fea97fd9eb0>,\n",
       " 13: <nibabel.nifti1.Nifti1Image at 0x7fea97fd9f70>,\n",
       " 14: <nibabel.nifti1.Nifti1Image at 0x7fea97fd9fa0>,\n",
       " 40: <nibabel.nifti1.Nifti1Image at 0x7fea97fd9a30>,\n",
       " 15: <nibabel.nifti1.Nifti1Image at 0x7fea97fd9550>,\n",
       " 24: <nibabel.nifti1.Nifti1Image at 0x7fea97fd9e50>,\n",
       " 23: <nibabel.nifti1.Nifti1Image at 0x7fea97fd9490>,\n",
       " 41: <nibabel.nifti1.Nifti1Image at 0x7fea97fe2580>}"
      ]
     },
     "execution_count": 140,
     "metadata": {},
     "output_type": "execute_result"
    }
   ],
   "source": [
    "all_mask"
   ]
  },
  {
   "cell_type": "code",
   "execution_count": 109,
   "metadata": {},
   "outputs": [],
   "source": [
    "all_labels = {}\n",
    "label_path = os.path.abspath(\"/Users/grantgonsalves/Desktop/gmg2176/Paris/hallu\")\n",
    "\n",
    "for subject_number in all_data:\n",
    "    all_labels[subject_number] = np.load(label_path+\"/S%02dlabels.npy\" %subject_number)\n",
    "    all_labels[subject_number] = np.where(all_labels[subject_number] == 0, 2, all_labels[subject_number])"
   ]
  },
  {
   "cell_type": "code",
   "execution_count": 119,
   "metadata": {},
   "outputs": [
    {
     "data": {
      "text/plain": [
       "(400,)"
      ]
     },
     "execution_count": 119,
     "metadata": {},
     "output_type": "execute_result"
    }
   ],
   "source": [
    "all_labels[42].shape"
   ]
  },
  {
   "cell_type": "code",
   "execution_count": 142,
   "metadata": {},
   "outputs": [
    {
     "name": "stdout",
     "output_type": "stream",
     "text": [
      "Training decoder to predict labels...\n",
      "Testing decoder against unseen data...\n",
      "Prediction Accuracy: 0.667\n",
      "Testing decoder against unseen data...\n",
      "Prediction Accuracy: 0.667\n",
      "Testing decoder against unseen data...\n",
      "Prediction Accuracy: 0.633\n",
      "Testing decoder against unseen data...\n",
      "Prediction Accuracy: 0.667\n",
      "Testing decoder against unseen data...\n",
      "Prediction Accuracy: 0.767\n",
      "Testing decoder against unseen data...\n",
      "Prediction Accuracy: 0.867\n",
      "Testing decoder against unseen data...\n",
      "Prediction Accuracy: 0.700\n",
      "Testing decoder against unseen data...\n",
      "Prediction Accuracy: 0.867\n",
      "Testing decoder against unseen data...\n",
      "Prediction Accuracy: 0.867\n",
      "Testing decoder against unseen data...\n",
      "Prediction Accuracy: 0.667\n",
      "Testing decoder against unseen data...\n",
      "Prediction Accuracy: 0.833\n",
      "Testing decoder against unseen data...\n",
      "Prediction Accuracy: 0.800\n",
      "Testing decoder against unseen data...\n",
      "Prediction Accuracy: 0.833\n",
      "Testing decoder against unseen data...\n",
      "Prediction Accuracy: 0.933\n",
      "Testing decoder against unseen data...\n",
      "Prediction Accuracy: 0.500\n",
      "Testing decoder against unseen data...\n",
      "Prediction Accuracy: 0.667\n",
      "Testing decoder against unseen data...\n",
      "Prediction Accuracy: 0.667\n",
      "Testing decoder against unseen data...\n",
      "Prediction Accuracy: 0.733\n",
      "Testing decoder against unseen data...\n",
      "Prediction Accuracy: 0.800\n",
      "Testing decoder against unseen data...\n",
      "Prediction Accuracy: 0.933\n",
      "Testing decoder against unseen data...\n",
      "Prediction Accuracy: 0.667\n",
      "Testing decoder against unseen data...\n",
      "Prediction Accuracy: 0.800\n",
      "Testing decoder against unseen data...\n",
      "Prediction Accuracy: 0.767\n"
     ]
    }
   ],
   "source": [
    "print(\"Training decoder to predict labels...\")\n",
    "from nilearn.image import index_img\n",
    "from nilearn.decoding import Decoder\n",
    "\n",
    "all_prediction = {}\n",
    "all_decoder = {}\n",
    "\n",
    "for subject_number in all_data:\n",
    "    f_train = index_img(all_data[subject_number], slice(0,-30))\n",
    "    f_test = index_img(all_data[subject_number], slice(-30,None))\n",
    "    c_train = all_labels[subject_number][:-30]\n",
    "    c_test = all_labels[subject_number][-30:]\n",
    "    print(\"Testing decoder against unseen data...\")\n",
    "    decoder = Decoder(estimator='svc', mask=all_mask[subject_number], standardize=True)\n",
    "    all_decoder[subject_number] = decoder.fit(f_train, c_train, groups=None)\n",
    "    all_prediction[subject_number] = decoder.predict(f_test)\n",
    "    print(\"Prediction Accuracy: {:.3f}\".format(\n",
    "    (all_prediction[subject_number] == c_test).sum() / float(len(c_test))))"
   ]
  },
  {
   "cell_type": "code",
   "execution_count": 151,
   "metadata": {},
   "outputs": [
    {
     "name": "stdout",
     "output_type": "stream",
     "text": [
      "Making pipeline...\n",
      "\n",
      "Cross-validating...\n",
      "\n",
      "Classification Accuracy:\n",
      "0.8142857142857143\n",
      "\n",
      "Null CV Scores:\n",
      "0.7857142857142857\n",
      "Cross-validating...\n",
      "\n",
      "Classification Accuracy:\n",
      "0.8607142857142858\n",
      "\n",
      "Null CV Scores:\n",
      "0.6321428571428571\n",
      "Cross-validating...\n",
      "\n",
      "Classification Accuracy:\n",
      "0.75\n",
      "\n",
      "Null CV Scores:\n",
      "0.7214285714285713\n",
      "Cross-validating...\n",
      "\n",
      "Classification Accuracy:\n",
      "0.7464285714285714\n",
      "\n",
      "Null CV Scores:\n",
      "0.6107142857142858\n",
      "Cross-validating...\n",
      "\n",
      "Classification Accuracy:\n",
      "0.7892857142857143\n",
      "\n",
      "Null CV Scores:\n",
      "0.6571428571428571\n",
      "Cross-validating...\n",
      "\n",
      "Classification Accuracy:\n",
      "0.875\n",
      "\n",
      "Null CV Scores:\n",
      "0.6678571428571429\n",
      "Cross-validating...\n",
      "\n",
      "Classification Accuracy:\n",
      "0.8464285714285715\n",
      "\n",
      "Null CV Scores:\n",
      "0.6142857142857142\n",
      "Cross-validating...\n",
      "\n",
      "Classification Accuracy:\n",
      "0.8099999999999999\n",
      "\n",
      "Null CV Scores:\n",
      "0.6799999999999999\n",
      "Cross-validating...\n",
      "\n",
      "Classification Accuracy:\n",
      "0.7785714285714287\n",
      "\n",
      "Null CV Scores:\n",
      "0.5857142857142856\n",
      "Cross-validating...\n",
      "\n",
      "Classification Accuracy:\n",
      "0.8107142857142857\n",
      "\n",
      "Null CV Scores:\n",
      "0.6392857142857143\n",
      "Cross-validating...\n",
      "\n",
      "Classification Accuracy:\n",
      "0.7\n",
      "\n",
      "Null CV Scores:\n",
      "0.6866666666666668\n",
      "Cross-validating...\n",
      "\n",
      "Classification Accuracy:\n",
      "0.8321428571428571\n",
      "\n",
      "Null CV Scores:\n",
      "0.625\n",
      "Cross-validating...\n",
      "\n",
      "Classification Accuracy:\n",
      "0.8892857142857142\n",
      "\n",
      "Null CV Scores:\n",
      "0.5535714285714286\n",
      "Cross-validating...\n",
      "\n",
      "Classification Accuracy:\n",
      "0.7866666666666666\n",
      "\n",
      "Null CV Scores:\n",
      "0.6533333333333332\n",
      "Cross-validating...\n",
      "\n",
      "Classification Accuracy:\n",
      "0.7392857142857142\n",
      "\n",
      "Null CV Scores:\n",
      "0.5964285714285714\n",
      "Cross-validating...\n",
      "\n",
      "Classification Accuracy:\n",
      "0.7821428571428571\n",
      "\n",
      "Null CV Scores:\n",
      "0.6035714285714285\n",
      "Cross-validating...\n",
      "\n",
      "Classification Accuracy:\n",
      "0.7821428571428571\n",
      "\n",
      "Null CV Scores:\n",
      "0.6178571428571429\n",
      "Cross-validating...\n",
      "\n",
      "Classification Accuracy:\n",
      "0.8321428571428571\n",
      "\n",
      "Null CV Scores:\n",
      "0.55\n",
      "Cross-validating...\n",
      "\n",
      "Classification Accuracy:\n",
      "0.875\n",
      "\n",
      "Null CV Scores:\n",
      "0.425\n",
      "Cross-validating...\n",
      "\n",
      "Classification Accuracy:\n",
      "0.8607142857142858\n",
      "\n",
      "Null CV Scores:\n",
      "0.45714285714285713\n",
      "Cross-validating...\n",
      "\n",
      "Classification Accuracy:\n",
      "0.7750000000000001\n",
      "\n",
      "Null CV Scores:\n",
      "0.8285714285714286\n",
      "Cross-validating...\n",
      "\n",
      "Classification Accuracy:\n",
      "0.7821428571428571\n",
      "\n",
      "Null CV Scores:\n",
      "0.6178571428571429\n",
      "Cross-validating...\n",
      "\n",
      "Classification Accuracy:\n",
      "0.8642857142857142\n",
      "\n",
      "Null CV Scores:\n",
      "0.425\n"
     ]
    }
   ],
   "source": [
    "print(\"Making pipeline...\\n\")\n",
    "\n",
    "from sklearn.svm import SVC\n",
    "from sklearn.feature_selection import SelectKBest, f_classif\n",
    "from sklearn.pipeline import Pipeline\n",
    "from sklearn.model_selection import cross_val_score, KFold\n",
    "from sklearn.dummy import DummyClassifier\n",
    "\n",
    "all_trans = {}\n",
    "all_samples = {}\n",
    "all_shuff = {}\n",
    "all_anova = {}\n",
    "all_cv = {}\n",
    "all_accuracy = {}\n",
    "all_null = {}\n",
    "\n",
    "for subject_number in all_data:\n",
    "    svc = SVC(kernel='linear', decision_function_shape='ovo', probability=True, C=1)\n",
    "    feature_selection = SelectKBest(f_classif, k=1000)\n",
    "    anova_svc = Pipeline([('anova', feature_selection), ('svc', svc)])\n",
    "    all_trans[subject_number] = all_masker[subject_number].transform(all_data[subject_number])\n",
    "    all_samples[subject_number] = len(all_trans[subject_number])//2\n",
    "    all_shuff[subject_number] = np.random.permutation(np.arange(len(all_trans[subject_number])))\n",
    "    all_anova[subject_number] = anova_svc.fit(all_trans[subject_number][all_shuff[subject_number]][:all_samples[subject_number]], all_labels[subject_number][all_shuff[subject_number]][:all_samples[subject_number]])\n",
    "    print(\"Cross-validating...\")\n",
    "    cv = KFold(n_splits=5)\n",
    "    all_cv[subject_number] = cross_val_score(all_anova[subject_number], all_trans[subject_number], all_labels[subject_number], cv=cv, n_jobs=4) \n",
    "    all_accuracy[subject_number] = np.mean(all_cv[subject_number])\n",
    "    all_null[subject_number] = np.mean(cross_val_score(DummyClassifier(), all_trans[subject_number], all_labels[subject_number], cv=cv, n_jobs=4))\n",
    "    print(\"\\nClassification Accuracy:\")\n",
    "    print(all_accuracy[subject_number])\n",
    "    print(\"\\nNull CV Scores:\")\n",
    "    print(all_null[subject_number])"
   ]
  },
  {
   "cell_type": "code",
   "execution_count": 156,
   "metadata": {},
   "outputs": [
    {
     "data": {
      "text/plain": [
       "'/Users/grantgonsalves/Desktop/gmg2176/Paris/hallu'"
      ]
     },
     "execution_count": 156,
     "metadata": {},
     "output_type": "execute_result"
    }
   ],
   "source": [
    "os.getcwd()"
   ]
  },
  {
   "cell_type": "code",
   "execution_count": 190,
   "metadata": {},
   "outputs": [
    {
     "name": "stdout",
     "output_type": "stream",
     "text": [
      "Displaying SVM weights...\n",
      "\n",
      "/Users/grantgonsalves/Desktop/gmg2176/Paris/hallu/Data/S05\n",
      "/Users/grantgonsalves/Desktop/gmg2176/Paris/hallu/Data/S02\n",
      "/Users/grantgonsalves/Desktop/gmg2176/Paris/hallu/Data/S34\n",
      "/Users/grantgonsalves/Desktop/gmg2176/Paris/hallu/Data/S03\n",
      "/Users/grantgonsalves/Desktop/gmg2176/Paris/hallu/Data/S26\n",
      "/Users/grantgonsalves/Desktop/gmg2176/Paris/hallu/Data/S28\n",
      "/Users/grantgonsalves/Desktop/gmg2176/Paris/hallu/Data/S10\n",
      "/Users/grantgonsalves/Desktop/gmg2176/Paris/hallu/Data/S42\n",
      "/Users/grantgonsalves/Desktop/gmg2176/Paris/hallu/Data/S01\n",
      "/Users/grantgonsalves/Desktop/gmg2176/Paris/hallu/Data/S06\n",
      "/Users/grantgonsalves/Desktop/gmg2176/Paris/hallu/Data/S30\n",
      "/Users/grantgonsalves/Desktop/gmg2176/Paris/hallu/Data/S08\n",
      "/Users/grantgonsalves/Desktop/gmg2176/Paris/hallu/Data/S37\n",
      "/Users/grantgonsalves/Desktop/gmg2176/Paris/hallu/Data/S38\n",
      "/Users/grantgonsalves/Desktop/gmg2176/Paris/hallu/Data/S07\n",
      "/Users/grantgonsalves/Desktop/gmg2176/Paris/hallu/Data/S22\n",
      "/Users/grantgonsalves/Desktop/gmg2176/Paris/hallu/Data/S13\n",
      "/Users/grantgonsalves/Desktop/gmg2176/Paris/hallu/Data/S14\n",
      "/Users/grantgonsalves/Desktop/gmg2176/Paris/hallu/Data/S40\n",
      "/Users/grantgonsalves/Desktop/gmg2176/Paris/hallu/Data/S15\n",
      "/Users/grantgonsalves/Desktop/gmg2176/Paris/hallu/Data/S24\n",
      "/Users/grantgonsalves/Desktop/gmg2176/Paris/hallu/Data/S23\n",
      "/Users/grantgonsalves/Desktop/gmg2176/Paris/hallu/Data/S41\n"
     ]
    }
   ],
   "source": [
    "print(\"Displaying SVM weights...\\n\")\n",
    "\n",
    "all_anat = {}\n",
    "data_path     = '/Users/grantgonsalves/Desktop/gmg2176/Paris/hallu'\n",
    "\n",
    "for subject in all_subjects:\n",
    "    if subject.find('DS') == -1:\n",
    "        subject_number = int(subject[1:])\n",
    "        func_path  = os.path.join(os.path.join(data_path, 'Data'), subject)\n",
    "        print(func_path)\n",
    "        try:\n",
    "            all_anat[subject_number] = nib.load(func_path+'/S%02d_anat.nii' %subject_number)\n",
    "        except Exception:\n",
    "            print(\"Could not load subject\", subject_number)"
   ]
  },
  {
   "cell_type": "code",
   "execution_count": 233,
   "metadata": {},
   "outputs": [
    {
     "ename": "TypeError",
     "evalue": "X must be of shape (samples, 47929).",
     "output_type": "error",
     "traceback": [
      "\u001b[0;31m---------------------------------------------------------------------------\u001b[0m",
      "\u001b[0;31mTypeError\u001b[0m                                 Traceback (most recent call last)",
      "\u001b[0;32m<ipython-input-233-68425e359d4a>\u001b[0m in \u001b[0;36m<module>\u001b[0;34m\u001b[0m\n\u001b[1;32m      5\u001b[0m \u001b[0;34m\u001b[0m\u001b[0m\n\u001b[1;32m      6\u001b[0m \u001b[0;32mfor\u001b[0m \u001b[0msubject_number\u001b[0m \u001b[0;32min\u001b[0m \u001b[0mall_data\u001b[0m\u001b[0;34m:\u001b[0m\u001b[0;34m\u001b[0m\u001b[0;34m\u001b[0m\u001b[0m\n\u001b[0;32m----> 7\u001b[0;31m     \u001b[0mcoef_img\u001b[0m \u001b[0;34m=\u001b[0m \u001b[0mmasker\u001b[0m\u001b[0;34m.\u001b[0m\u001b[0minverse_transform\u001b[0m\u001b[0;34m(\u001b[0m\u001b[0mfeature_selection\u001b[0m\u001b[0;34m.\u001b[0m\u001b[0minverse_transform\u001b[0m\u001b[0;34m(\u001b[0m\u001b[0msvc\u001b[0m\u001b[0;34m.\u001b[0m\u001b[0mcoef_\u001b[0m\u001b[0;34m)\u001b[0m\u001b[0;34m)\u001b[0m\u001b[0;34m\u001b[0m\u001b[0;34m\u001b[0m\u001b[0m\n\u001b[0m\u001b[1;32m      8\u001b[0m     \u001b[0mall_coef\u001b[0m\u001b[0;34m[\u001b[0m\u001b[0msubject_number\u001b[0m\u001b[0;34m]\u001b[0m \u001b[0;34m=\u001b[0m \u001b[0mall_decoder\u001b[0m\u001b[0;34m[\u001b[0m\u001b[0msubject_number\u001b[0m\u001b[0;34m]\u001b[0m\u001b[0;34m.\u001b[0m\u001b[0mcoef_img_\u001b[0m\u001b[0;34m\u001b[0m\u001b[0;34m\u001b[0m\u001b[0m\n\u001b[1;32m      9\u001b[0m     \u001b[0mall_plot\u001b[0m\u001b[0;34m[\u001b[0m\u001b[0msubject_number\u001b[0m\u001b[0;34m]\u001b[0m \u001b[0;34m=\u001b[0m \u001b[0mplotting\u001b[0m\u001b[0;34m.\u001b[0m\u001b[0mplot_stat_map\u001b[0m\u001b[0;34m(\u001b[0m\u001b[0mall_coef\u001b[0m\u001b[0;34m[\u001b[0m\u001b[0msubject_number\u001b[0m\u001b[0;34m]\u001b[0m\u001b[0;34m,\u001b[0m \u001b[0mbg_img\u001b[0m\u001b[0;34m=\u001b[0m\u001b[0mall_anat\u001b[0m\u001b[0;34m[\u001b[0m\u001b[0msubject_number\u001b[0m\u001b[0;34m]\u001b[0m\u001b[0;34m,\u001b[0m \u001b[0mtitle\u001b[0m\u001b[0;34m=\u001b[0m\u001b[0;34m\"S%02d_SVM_weights\"\u001b[0m \u001b[0;34m%\u001b[0m\u001b[0msubject_number\u001b[0m\u001b[0;34m,\u001b[0m \u001b[0mcolorbar\u001b[0m\u001b[0;34m=\u001b[0m\u001b[0;32mTrue\u001b[0m\u001b[0;34m,\u001b[0m \u001b[0mdim\u001b[0m\u001b[0;34m=\u001b[0m\u001b[0;34m-\u001b[0m\u001b[0;36m1\u001b[0m \u001b[0;34m)\u001b[0m\u001b[0;34m;\u001b[0m\u001b[0;34m\u001b[0m\u001b[0;34m\u001b[0m\u001b[0m\n",
      "\u001b[0;32m~/opt/anaconda3/lib/python3.8/site-packages/nilearn/maskers/base_masker.py\u001b[0m in \u001b[0;36minverse_transform\u001b[0;34m(self, X)\u001b[0m\n\u001b[1;32m    284\u001b[0m         \"\"\"\n\u001b[1;32m    285\u001b[0m         \u001b[0mself\u001b[0m\u001b[0;34m.\u001b[0m\u001b[0m_check_fitted\u001b[0m\u001b[0;34m(\u001b[0m\u001b[0;34m)\u001b[0m\u001b[0;34m\u001b[0m\u001b[0;34m\u001b[0m\u001b[0m\n\u001b[0;32m--> 286\u001b[0;31m         \u001b[0mimg\u001b[0m \u001b[0;34m=\u001b[0m \u001b[0mself\u001b[0m\u001b[0;34m.\u001b[0m\u001b[0m_cache\u001b[0m\u001b[0;34m(\u001b[0m\u001b[0mmasking\u001b[0m\u001b[0;34m.\u001b[0m\u001b[0munmask\u001b[0m\u001b[0;34m)\u001b[0m\u001b[0;34m(\u001b[0m\u001b[0mX\u001b[0m\u001b[0;34m,\u001b[0m \u001b[0mself\u001b[0m\u001b[0;34m.\u001b[0m\u001b[0mmask_img_\u001b[0m\u001b[0;34m)\u001b[0m\u001b[0;34m\u001b[0m\u001b[0;34m\u001b[0m\u001b[0m\n\u001b[0m\u001b[1;32m    287\u001b[0m         \u001b[0;31m# Be robust again memmapping that will create read-only arrays in\u001b[0m\u001b[0;34m\u001b[0m\u001b[0;34m\u001b[0m\u001b[0;34m\u001b[0m\u001b[0m\n\u001b[1;32m    288\u001b[0m         \u001b[0;31m# internal structures of the header: remove the memmaped array\u001b[0m\u001b[0;34m\u001b[0m\u001b[0;34m\u001b[0m\u001b[0;34m\u001b[0m\u001b[0m\n",
      "\u001b[0;32m~/opt/anaconda3/lib/python3.8/site-packages/joblib/memory.py\u001b[0m in \u001b[0;36m__call__\u001b[0;34m(self, *args, **kwargs)\u001b[0m\n\u001b[1;32m    347\u001b[0m \u001b[0;34m\u001b[0m\u001b[0m\n\u001b[1;32m    348\u001b[0m     \u001b[0;32mdef\u001b[0m \u001b[0m__call__\u001b[0m\u001b[0;34m(\u001b[0m\u001b[0mself\u001b[0m\u001b[0;34m,\u001b[0m \u001b[0;34m*\u001b[0m\u001b[0margs\u001b[0m\u001b[0;34m,\u001b[0m \u001b[0;34m**\u001b[0m\u001b[0mkwargs\u001b[0m\u001b[0;34m)\u001b[0m\u001b[0;34m:\u001b[0m\u001b[0;34m\u001b[0m\u001b[0;34m\u001b[0m\u001b[0m\n\u001b[0;32m--> 349\u001b[0;31m         \u001b[0;32mreturn\u001b[0m \u001b[0mself\u001b[0m\u001b[0;34m.\u001b[0m\u001b[0mfunc\u001b[0m\u001b[0;34m(\u001b[0m\u001b[0;34m*\u001b[0m\u001b[0margs\u001b[0m\u001b[0;34m,\u001b[0m \u001b[0;34m**\u001b[0m\u001b[0mkwargs\u001b[0m\u001b[0;34m)\u001b[0m\u001b[0;34m\u001b[0m\u001b[0;34m\u001b[0m\u001b[0m\n\u001b[0m\u001b[1;32m    350\u001b[0m \u001b[0;34m\u001b[0m\u001b[0m\n\u001b[1;32m    351\u001b[0m     \u001b[0;32mdef\u001b[0m \u001b[0mcall_and_shelve\u001b[0m\u001b[0;34m(\u001b[0m\u001b[0mself\u001b[0m\u001b[0;34m,\u001b[0m \u001b[0;34m*\u001b[0m\u001b[0margs\u001b[0m\u001b[0;34m,\u001b[0m \u001b[0;34m**\u001b[0m\u001b[0mkwargs\u001b[0m\u001b[0;34m)\u001b[0m\u001b[0;34m:\u001b[0m\u001b[0;34m\u001b[0m\u001b[0;34m\u001b[0m\u001b[0m\n",
      "\u001b[0;32m~/opt/anaconda3/lib/python3.8/site-packages/nilearn/masking.py\u001b[0m in \u001b[0;36munmask\u001b[0;34m(X, mask_img, order)\u001b[0m\n\u001b[1;32m    903\u001b[0m \u001b[0;34m\u001b[0m\u001b[0m\n\u001b[1;32m    904\u001b[0m     \u001b[0;32mif\u001b[0m \u001b[0mnp\u001b[0m\u001b[0;34m.\u001b[0m\u001b[0mndim\u001b[0m\u001b[0;34m(\u001b[0m\u001b[0mX\u001b[0m\u001b[0;34m)\u001b[0m \u001b[0;34m==\u001b[0m \u001b[0;36m2\u001b[0m\u001b[0;34m:\u001b[0m\u001b[0;34m\u001b[0m\u001b[0;34m\u001b[0m\u001b[0m\n\u001b[0;32m--> 905\u001b[0;31m         \u001b[0munmasked\u001b[0m \u001b[0;34m=\u001b[0m \u001b[0m_unmask_4d\u001b[0m\u001b[0;34m(\u001b[0m\u001b[0mX\u001b[0m\u001b[0;34m,\u001b[0m \u001b[0mmask\u001b[0m\u001b[0;34m,\u001b[0m \u001b[0morder\u001b[0m\u001b[0;34m=\u001b[0m\u001b[0morder\u001b[0m\u001b[0;34m)\u001b[0m\u001b[0;34m\u001b[0m\u001b[0;34m\u001b[0m\u001b[0m\n\u001b[0m\u001b[1;32m    906\u001b[0m     \u001b[0;32melif\u001b[0m \u001b[0mnp\u001b[0m\u001b[0;34m.\u001b[0m\u001b[0mndim\u001b[0m\u001b[0;34m(\u001b[0m\u001b[0mX\u001b[0m\u001b[0;34m)\u001b[0m \u001b[0;34m==\u001b[0m \u001b[0;36m1\u001b[0m\u001b[0;34m:\u001b[0m\u001b[0;34m\u001b[0m\u001b[0;34m\u001b[0m\u001b[0m\n\u001b[1;32m    907\u001b[0m         \u001b[0munmasked\u001b[0m \u001b[0;34m=\u001b[0m \u001b[0m_unmask_3d\u001b[0m\u001b[0;34m(\u001b[0m\u001b[0mX\u001b[0m\u001b[0;34m,\u001b[0m \u001b[0mmask\u001b[0m\u001b[0;34m,\u001b[0m \u001b[0morder\u001b[0m\u001b[0;34m=\u001b[0m\u001b[0morder\u001b[0m\u001b[0;34m)\u001b[0m\u001b[0;34m\u001b[0m\u001b[0;34m\u001b[0m\u001b[0m\n",
      "\u001b[0;32m~/opt/anaconda3/lib/python3.8/site-packages/nilearn/masking.py\u001b[0m in \u001b[0;36m_unmask_4d\u001b[0;34m(X, mask, order)\u001b[0m\n\u001b[1;32m    855\u001b[0m     \u001b[0mn_features\u001b[0m \u001b[0;34m=\u001b[0m \u001b[0mmask\u001b[0m\u001b[0;34m.\u001b[0m\u001b[0msum\u001b[0m\u001b[0;34m(\u001b[0m\u001b[0;34m)\u001b[0m\u001b[0;34m\u001b[0m\u001b[0;34m\u001b[0m\u001b[0m\n\u001b[1;32m    856\u001b[0m     \u001b[0;32mif\u001b[0m \u001b[0mX\u001b[0m\u001b[0;34m.\u001b[0m\u001b[0mshape\u001b[0m\u001b[0;34m[\u001b[0m\u001b[0;36m1\u001b[0m\u001b[0;34m]\u001b[0m \u001b[0;34m!=\u001b[0m \u001b[0mn_features\u001b[0m\u001b[0;34m:\u001b[0m\u001b[0;34m\u001b[0m\u001b[0;34m\u001b[0m\u001b[0m\n\u001b[0;32m--> 857\u001b[0;31m         \u001b[0;32mraise\u001b[0m \u001b[0mTypeError\u001b[0m\u001b[0;34m(\u001b[0m\u001b[0;34m'X must be of shape (samples, %d).'\u001b[0m \u001b[0;34m%\u001b[0m \u001b[0mn_features\u001b[0m\u001b[0;34m)\u001b[0m\u001b[0;34m\u001b[0m\u001b[0;34m\u001b[0m\u001b[0m\n\u001b[0m\u001b[1;32m    858\u001b[0m \u001b[0;34m\u001b[0m\u001b[0m\n\u001b[1;32m    859\u001b[0m     \u001b[0mdata\u001b[0m \u001b[0;34m=\u001b[0m \u001b[0mnp\u001b[0m\u001b[0;34m.\u001b[0m\u001b[0mzeros\u001b[0m\u001b[0;34m(\u001b[0m\u001b[0mmask\u001b[0m\u001b[0;34m.\u001b[0m\u001b[0mshape\u001b[0m \u001b[0;34m+\u001b[0m \u001b[0;34m(\u001b[0m\u001b[0mX\u001b[0m\u001b[0;34m.\u001b[0m\u001b[0mshape\u001b[0m\u001b[0;34m[\u001b[0m\u001b[0;36m0\u001b[0m\u001b[0;34m]\u001b[0m\u001b[0;34m,\u001b[0m\u001b[0;34m)\u001b[0m\u001b[0;34m,\u001b[0m \u001b[0mdtype\u001b[0m\u001b[0;34m=\u001b[0m\u001b[0mX\u001b[0m\u001b[0;34m.\u001b[0m\u001b[0mdtype\u001b[0m\u001b[0;34m,\u001b[0m \u001b[0morder\u001b[0m\u001b[0;34m=\u001b[0m\u001b[0morder\u001b[0m\u001b[0;34m)\u001b[0m\u001b[0;34m\u001b[0m\u001b[0;34m\u001b[0m\u001b[0m\n",
      "\u001b[0;31mTypeError\u001b[0m: X must be of shape (samples, 47929)."
     ]
    }
   ],
   "source": [
    "# I don't know how to fix this to display the SVM weights\n",
    "\n",
    "all_coef = {}\n",
    "all_plot = {}\n",
    "\n",
    "for subject_number in all_data:\n",
    "    coef_img = masker.inverse_transform(feature_selection.inverse_transform(svc.coef_))\n",
    "    all_coef[subject_number] = all_decoder[subject_number].coef_img_\n",
    "    all_plot[subject_number] = plotting.plot_stat_map(all_coef[subject_number], bg_img=all_anat[subject_number], title=\"S%02d_SVM_weights\" %subject_number, colorbar=True, dim=-1 );"
   ]
  },
  {
   "cell_type": "code",
   "execution_count": null,
   "metadata": {},
   "outputs": [],
   "source": []
  }
 ],
 "metadata": {
  "kernelspec": {
   "display_name": "Python 3",
   "language": "python",
   "name": "python3"
  },
  "language_info": {
   "codemirror_mode": {
    "name": "ipython",
    "version": 3
   },
   "file_extension": ".py",
   "mimetype": "text/x-python",
   "name": "python",
   "nbconvert_exporter": "python",
   "pygments_lexer": "ipython3",
   "version": "3.8.3"
  }
 },
 "nbformat": 4,
 "nbformat_minor": 4
}
